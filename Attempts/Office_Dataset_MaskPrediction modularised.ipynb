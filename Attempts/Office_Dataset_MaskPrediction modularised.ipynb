{
  "nbformat": 4,
  "nbformat_minor": 0,
  "metadata": {
    "colab": {
      "name": "Office Dataset-MaskPrediction",
      "provenance": [],
      "collapsed_sections": []
    },
    "kernelspec": {
      "name": "python3",
      "display_name": "Python 3"
    },
    "accelerator": "GPU",
    "widgets": {
      "application/vnd.jupyter.widget-state+json": {
        "969c8719463f4c96a78858b6e9e6dbd2": {
          "model_module": "@jupyter-widgets/controls",
          "model_name": "HBoxModel",
          "state": {
            "_view_name": "HBoxView",
            "_dom_classes": [],
            "_model_name": "HBoxModel",
            "_view_module": "@jupyter-widgets/controls",
            "_model_module_version": "1.5.0",
            "_view_count": null,
            "_view_module_version": "1.5.0",
            "box_style": "",
            "layout": "IPY_MODEL_11afa456e8294e5ab89676d97d779c5b",
            "_model_module": "@jupyter-widgets/controls",
            "children": [
              "IPY_MODEL_b92619e4158e40c5b69382126a4c81fe",
              "IPY_MODEL_7340f18d36074847ade80b0dad6e5802"
            ]
          }
        },
        "11afa456e8294e5ab89676d97d779c5b": {
          "model_module": "@jupyter-widgets/base",
          "model_name": "LayoutModel",
          "state": {
            "_view_name": "LayoutView",
            "grid_template_rows": null,
            "right": null,
            "justify_content": null,
            "_view_module": "@jupyter-widgets/base",
            "overflow": null,
            "_model_module_version": "1.2.0",
            "_view_count": null,
            "flex_flow": null,
            "width": null,
            "min_width": null,
            "border": null,
            "align_items": null,
            "bottom": null,
            "_model_module": "@jupyter-widgets/base",
            "top": null,
            "grid_column": null,
            "overflow_y": null,
            "overflow_x": null,
            "grid_auto_flow": null,
            "grid_area": null,
            "grid_template_columns": null,
            "flex": null,
            "_model_name": "LayoutModel",
            "justify_items": null,
            "grid_row": null,
            "max_height": null,
            "align_content": null,
            "visibility": null,
            "align_self": null,
            "height": null,
            "min_height": null,
            "padding": null,
            "grid_auto_rows": null,
            "grid_gap": null,
            "max_width": null,
            "order": null,
            "_view_module_version": "1.2.0",
            "grid_template_areas": null,
            "object_position": null,
            "object_fit": null,
            "grid_auto_columns": null,
            "margin": null,
            "display": null,
            "left": null
          }
        },
        "b92619e4158e40c5b69382126a4c81fe": {
          "model_module": "@jupyter-widgets/controls",
          "model_name": "FloatProgressModel",
          "state": {
            "_view_name": "ProgressView",
            "style": "IPY_MODEL_a96442131f9748c0ba0e0e6f00253815",
            "_dom_classes": [],
            "description": "TrainLoss=-36.417; IoU=0.557: ",
            "_model_name": "FloatProgressModel",
            "bar_style": "success",
            "max": 1,
            "_view_module": "@jupyter-widgets/controls",
            "_model_module_version": "1.5.0",
            "value": 1,
            "_view_count": null,
            "_view_module_version": "1.5.0",
            "orientation": "horizontal",
            "min": 0,
            "description_tooltip": null,
            "_model_module": "@jupyter-widgets/controls",
            "layout": "IPY_MODEL_eff93b0bd2704fa0ba569b8470465f69"
          }
        },
        "7340f18d36074847ade80b0dad6e5802": {
          "model_module": "@jupyter-widgets/controls",
          "model_name": "HTMLModel",
          "state": {
            "_view_name": "HTMLView",
            "style": "IPY_MODEL_ef7f7cfdc9dc4a70891ebec98be8075b",
            "_dom_classes": [],
            "description": "",
            "_model_name": "HTMLModel",
            "placeholder": "​",
            "_view_module": "@jupyter-widgets/controls",
            "_model_module_version": "1.5.0",
            "value": " 55/? [02:06&lt;00:00,  2.29s/it]",
            "_view_count": null,
            "_view_module_version": "1.5.0",
            "description_tooltip": null,
            "_model_module": "@jupyter-widgets/controls",
            "layout": "IPY_MODEL_571aa5a7e62a461c9d36abc0d6473600"
          }
        },
        "a96442131f9748c0ba0e0e6f00253815": {
          "model_module": "@jupyter-widgets/controls",
          "model_name": "ProgressStyleModel",
          "state": {
            "_view_name": "StyleView",
            "_model_name": "ProgressStyleModel",
            "description_width": "initial",
            "_view_module": "@jupyter-widgets/base",
            "_model_module_version": "1.5.0",
            "_view_count": null,
            "_view_module_version": "1.2.0",
            "bar_color": null,
            "_model_module": "@jupyter-widgets/controls"
          }
        },
        "eff93b0bd2704fa0ba569b8470465f69": {
          "model_module": "@jupyter-widgets/base",
          "model_name": "LayoutModel",
          "state": {
            "_view_name": "LayoutView",
            "grid_template_rows": null,
            "right": null,
            "justify_content": null,
            "_view_module": "@jupyter-widgets/base",
            "overflow": null,
            "_model_module_version": "1.2.0",
            "_view_count": null,
            "flex_flow": null,
            "width": null,
            "min_width": null,
            "border": null,
            "align_items": null,
            "bottom": null,
            "_model_module": "@jupyter-widgets/base",
            "top": null,
            "grid_column": null,
            "overflow_y": null,
            "overflow_x": null,
            "grid_auto_flow": null,
            "grid_area": null,
            "grid_template_columns": null,
            "flex": null,
            "_model_name": "LayoutModel",
            "justify_items": null,
            "grid_row": null,
            "max_height": null,
            "align_content": null,
            "visibility": null,
            "align_self": null,
            "height": null,
            "min_height": null,
            "padding": null,
            "grid_auto_rows": null,
            "grid_gap": null,
            "max_width": null,
            "order": null,
            "_view_module_version": "1.2.0",
            "grid_template_areas": null,
            "object_position": null,
            "object_fit": null,
            "grid_auto_columns": null,
            "margin": null,
            "display": null,
            "left": null
          }
        },
        "ef7f7cfdc9dc4a70891ebec98be8075b": {
          "model_module": "@jupyter-widgets/controls",
          "model_name": "DescriptionStyleModel",
          "state": {
            "_view_name": "StyleView",
            "_model_name": "DescriptionStyleModel",
            "description_width": "",
            "_view_module": "@jupyter-widgets/base",
            "_model_module_version": "1.5.0",
            "_view_count": null,
            "_view_module_version": "1.2.0",
            "_model_module": "@jupyter-widgets/controls"
          }
        },
        "571aa5a7e62a461c9d36abc0d6473600": {
          "model_module": "@jupyter-widgets/base",
          "model_name": "LayoutModel",
          "state": {
            "_view_name": "LayoutView",
            "grid_template_rows": null,
            "right": null,
            "justify_content": null,
            "_view_module": "@jupyter-widgets/base",
            "overflow": null,
            "_model_module_version": "1.2.0",
            "_view_count": null,
            "flex_flow": null,
            "width": null,
            "min_width": null,
            "border": null,
            "align_items": null,
            "bottom": null,
            "_model_module": "@jupyter-widgets/base",
            "top": null,
            "grid_column": null,
            "overflow_y": null,
            "overflow_x": null,
            "grid_auto_flow": null,
            "grid_area": null,
            "grid_template_columns": null,
            "flex": null,
            "_model_name": "LayoutModel",
            "justify_items": null,
            "grid_row": null,
            "max_height": null,
            "align_content": null,
            "visibility": null,
            "align_self": null,
            "height": null,
            "min_height": null,
            "padding": null,
            "grid_auto_rows": null,
            "grid_gap": null,
            "max_width": null,
            "order": null,
            "_view_module_version": "1.2.0",
            "grid_template_areas": null,
            "object_position": null,
            "object_fit": null,
            "grid_auto_columns": null,
            "margin": null,
            "display": null,
            "left": null
          }
        },
        "2e8698f8ed7d490e8dc46d28dcaea834": {
          "model_module": "@jupyter-widgets/controls",
          "model_name": "HBoxModel",
          "state": {
            "_view_name": "HBoxView",
            "_dom_classes": [],
            "_model_name": "HBoxModel",
            "_view_module": "@jupyter-widgets/controls",
            "_model_module_version": "1.5.0",
            "_view_count": null,
            "_view_module_version": "1.5.0",
            "box_style": "",
            "layout": "IPY_MODEL_e044455fb6914923a34d5f2888d409ca",
            "_model_module": "@jupyter-widgets/controls",
            "children": [
              "IPY_MODEL_e9177b79a1724984adb8d6c0845752fd",
              "IPY_MODEL_0540535625504bca95d2c6659ff7ed09"
            ]
          }
        },
        "e044455fb6914923a34d5f2888d409ca": {
          "model_module": "@jupyter-widgets/base",
          "model_name": "LayoutModel",
          "state": {
            "_view_name": "LayoutView",
            "grid_template_rows": null,
            "right": null,
            "justify_content": null,
            "_view_module": "@jupyter-widgets/base",
            "overflow": null,
            "_model_module_version": "1.2.0",
            "_view_count": null,
            "flex_flow": null,
            "width": null,
            "min_width": null,
            "border": null,
            "align_items": null,
            "bottom": null,
            "_model_module": "@jupyter-widgets/base",
            "top": null,
            "grid_column": null,
            "overflow_y": null,
            "overflow_x": null,
            "grid_auto_flow": null,
            "grid_area": null,
            "grid_template_columns": null,
            "flex": null,
            "_model_name": "LayoutModel",
            "justify_items": null,
            "grid_row": null,
            "max_height": null,
            "align_content": null,
            "visibility": null,
            "align_self": null,
            "height": null,
            "min_height": null,
            "padding": null,
            "grid_auto_rows": null,
            "grid_gap": null,
            "max_width": null,
            "order": null,
            "_view_module_version": "1.2.0",
            "grid_template_areas": null,
            "object_position": null,
            "object_fit": null,
            "grid_auto_columns": null,
            "margin": null,
            "display": null,
            "left": null
          }
        },
        "e9177b79a1724984adb8d6c0845752fd": {
          "model_module": "@jupyter-widgets/controls",
          "model_name": "FloatProgressModel",
          "state": {
            "_view_name": "ProgressView",
            "style": "IPY_MODEL_09846ba53695432e956cec92ee4cee1d",
            "_dom_classes": [],
            "description": "ValidationLoss=-11.075; IoU=12.444: ",
            "_model_name": "FloatProgressModel",
            "bar_style": "success",
            "max": 1,
            "_view_module": "@jupyter-widgets/controls",
            "_model_module_version": "1.5.0",
            "value": 1,
            "_view_count": null,
            "_view_module_version": "1.5.0",
            "orientation": "horizontal",
            "min": 0,
            "description_tooltip": null,
            "_model_module": "@jupyter-widgets/controls",
            "layout": "IPY_MODEL_66267bcd19694a06bb5304fe34be54bc"
          }
        },
        "0540535625504bca95d2c6659ff7ed09": {
          "model_module": "@jupyter-widgets/controls",
          "model_name": "HTMLModel",
          "state": {
            "_view_name": "HTMLView",
            "style": "IPY_MODEL_b5aa9950dfc640519115a6d7bf9477f6",
            "_dom_classes": [],
            "description": "",
            "_model_name": "HTMLModel",
            "placeholder": "​",
            "_view_module": "@jupyter-widgets/controls",
            "_model_module_version": "1.5.0",
            "value": " 24/? [00:17&lt;00:00,  1.35it/s]",
            "_view_count": null,
            "_view_module_version": "1.5.0",
            "description_tooltip": null,
            "_model_module": "@jupyter-widgets/controls",
            "layout": "IPY_MODEL_ce4e1384987b40308491dec1eac4b6b8"
          }
        },
        "09846ba53695432e956cec92ee4cee1d": {
          "model_module": "@jupyter-widgets/controls",
          "model_name": "ProgressStyleModel",
          "state": {
            "_view_name": "StyleView",
            "_model_name": "ProgressStyleModel",
            "description_width": "initial",
            "_view_module": "@jupyter-widgets/base",
            "_model_module_version": "1.5.0",
            "_view_count": null,
            "_view_module_version": "1.2.0",
            "bar_color": null,
            "_model_module": "@jupyter-widgets/controls"
          }
        },
        "66267bcd19694a06bb5304fe34be54bc": {
          "model_module": "@jupyter-widgets/base",
          "model_name": "LayoutModel",
          "state": {
            "_view_name": "LayoutView",
            "grid_template_rows": null,
            "right": null,
            "justify_content": null,
            "_view_module": "@jupyter-widgets/base",
            "overflow": null,
            "_model_module_version": "1.2.0",
            "_view_count": null,
            "flex_flow": null,
            "width": null,
            "min_width": null,
            "border": null,
            "align_items": null,
            "bottom": null,
            "_model_module": "@jupyter-widgets/base",
            "top": null,
            "grid_column": null,
            "overflow_y": null,
            "overflow_x": null,
            "grid_auto_flow": null,
            "grid_area": null,
            "grid_template_columns": null,
            "flex": null,
            "_model_name": "LayoutModel",
            "justify_items": null,
            "grid_row": null,
            "max_height": null,
            "align_content": null,
            "visibility": null,
            "align_self": null,
            "height": null,
            "min_height": null,
            "padding": null,
            "grid_auto_rows": null,
            "grid_gap": null,
            "max_width": null,
            "order": null,
            "_view_module_version": "1.2.0",
            "grid_template_areas": null,
            "object_position": null,
            "object_fit": null,
            "grid_auto_columns": null,
            "margin": null,
            "display": null,
            "left": null
          }
        },
        "b5aa9950dfc640519115a6d7bf9477f6": {
          "model_module": "@jupyter-widgets/controls",
          "model_name": "DescriptionStyleModel",
          "state": {
            "_view_name": "StyleView",
            "_model_name": "DescriptionStyleModel",
            "description_width": "",
            "_view_module": "@jupyter-widgets/base",
            "_model_module_version": "1.5.0",
            "_view_count": null,
            "_view_module_version": "1.2.0",
            "_model_module": "@jupyter-widgets/controls"
          }
        },
        "ce4e1384987b40308491dec1eac4b6b8": {
          "model_module": "@jupyter-widgets/base",
          "model_name": "LayoutModel",
          "state": {
            "_view_name": "LayoutView",
            "grid_template_rows": null,
            "right": null,
            "justify_content": null,
            "_view_module": "@jupyter-widgets/base",
            "overflow": null,
            "_model_module_version": "1.2.0",
            "_view_count": null,
            "flex_flow": null,
            "width": null,
            "min_width": null,
            "border": null,
            "align_items": null,
            "bottom": null,
            "_model_module": "@jupyter-widgets/base",
            "top": null,
            "grid_column": null,
            "overflow_y": null,
            "overflow_x": null,
            "grid_auto_flow": null,
            "grid_area": null,
            "grid_template_columns": null,
            "flex": null,
            "_model_name": "LayoutModel",
            "justify_items": null,
            "grid_row": null,
            "max_height": null,
            "align_content": null,
            "visibility": null,
            "align_self": null,
            "height": null,
            "min_height": null,
            "padding": null,
            "grid_auto_rows": null,
            "grid_gap": null,
            "max_width": null,
            "order": null,
            "_view_module_version": "1.2.0",
            "grid_template_areas": null,
            "object_position": null,
            "object_fit": null,
            "grid_auto_columns": null,
            "margin": null,
            "display": null,
            "left": null
          }
        }
      }
    }
  },
  "cells": [
    {
      "cell_type": "markdown",
      "metadata": {
        "id": "ca5WSDWKUHIH",
        "colab_type": "text"
      },
      "source": [
        "**Mount the Drive**"
      ]
    },
    {
      "cell_type": "code",
      "metadata": {
        "id": "YJNBfkQf6zGn",
        "colab_type": "code",
        "colab": {
          "base_uri": "https://localhost:8080/",
          "height": 36
        },
        "outputId": "4e44e234-96cc-4dd5-aaf4-37fbd6d553a2"
      },
      "source": [
        "from google.colab import drive\n",
        "drive.mount('/content/drive')"
      ],
      "execution_count": 1,
      "outputs": [
        {
          "output_type": "stream",
          "text": [
            "Drive already mounted at /content/drive; to attempt to forcibly remount, call drive.mount(\"/content/drive\", force_remount=True).\n"
          ],
          "name": "stdout"
        }
      ]
    },
    {
      "cell_type": "code",
      "metadata": {
        "id": "7nqFxZkvXf7u",
        "colab_type": "code",
        "colab": {}
      },
      "source": [
        "import sys\n",
        "sys.path.append('/content/drive/My Drive/torchkit')"
      ],
      "execution_count": 3,
      "outputs": []
    },
    {
      "cell_type": "markdown",
      "metadata": {
        "id": "s9dwicunkKJD",
        "colab_type": "text"
      },
      "source": [
        "**Import all Libraries**"
      ]
    },
    {
      "cell_type": "code",
      "metadata": {
        "id": "9H1IFrDKkJeE",
        "colab_type": "code",
        "colab": {}
      },
      "source": [
        "from dataloaders import Data_To_Dataloader\n",
        "from albtransforms import SingleChannel_ImageTransforms, AlbumentationTransforms\n",
        "from loss_funcs import *\n",
        "import lr_finder\n",
        "from utils import zip_data\n",
        "from s15_customdataset import DepthMapDataset\n",
        "from UNet import UNet\n",
        "from setup import hardware_specs"
      ],
      "execution_count": 4,
      "outputs": []
    },
    {
      "cell_type": "markdown",
      "metadata": {
        "id": "iBkQKIUgrtwz",
        "colab_type": "text"
      },
      "source": [
        "**Hardware Properties**"
      ]
    },
    {
      "cell_type": "code",
      "metadata": {
        "id": "PF3pdSaVrtQf",
        "colab_type": "code",
        "colab": {
          "base_uri": "https://localhost:8080/",
          "height": 36
        },
        "outputId": "ce2264dc-45cf-40a6-9fc2-06853130bafd"
      },
      "source": [
        "hardware_specs()"
      ],
      "execution_count": 9,
      "outputs": [
        {
          "output_type": "execute_result",
          "data": {
            "application/vnd.google.colaboratory.intrinsic+json": {
              "type": "string"
            },
            "text/plain": [
              "\"PyTorch 1.6.0+cu101 _CudaDeviceProperties(name='Tesla T4', major=7, minor=5, total_memory=15079MB, multi_processor_count=40)\""
            ]
          },
          "metadata": {
            "tags": []
          },
          "execution_count": 9
        }
      ]
    },
    {
      "cell_type": "markdown",
      "metadata": {
        "id": "lz5o0fb3DK77",
        "colab_type": "text"
      },
      "source": [
        "**Initialize Tensorboard Object**"
      ]
    },
    {
      "cell_type": "code",
      "metadata": {
        "id": "vE_Dj_8rDKXt",
        "colab_type": "code",
        "colab": {}
      },
      "source": [
        "# Load the TensorBoard notebook extension\n",
        "%load_ext tensorboard\n",
        "\n",
        "writer = SummaryWriter()"
      ],
      "execution_count": null,
      "outputs": []
    },
    {
      "cell_type": "markdown",
      "metadata": {
        "id": "BeIDz8JY2iTs",
        "colab_type": "text"
      },
      "source": [
        "**Unzip the File**"
      ]
    },
    {
      "cell_type": "code",
      "metadata": {
        "id": "swrJpuN_czo_",
        "colab_type": "code",
        "colab": {
          "base_uri": "https://localhost:8080/",
          "height": 73
        },
        "outputId": "388986fb-2b4a-4ff5-d390-e61159555d01"
      },
      "source": [
        "path = '/content/drive/My Drive/ZipFiles/data_TenK101.zip'\n",
        "save = '/content/drive/My Drive/Videos'\n",
        "zip_data(zipfile,path, save)"
      ],
      "execution_count": null,
      "outputs": [
        {
          "output_type": "stream",
          "text": [
            "Outside loop\n",
            "Extracting ZIP\n",
            "Zipfile extracted to /content/drive/My Drive/Videos\n"
          ],
          "name": "stdout"
        }
      ]
    },
    {
      "cell_type": "markdown",
      "metadata": {
        "id": "kzmodr-dUnfG",
        "colab_type": "text"
      },
      "source": [
        "**Set the path for all 4 type of Images**"
      ]
    },
    {
      "cell_type": "code",
      "metadata": {
        "id": "GRy_ZMdL76DY",
        "colab_type": "code",
        "colab": {}
      },
      "source": [
        "import os\n",
        "zip_path = \"/content/drive/My Drive/ZipExtract/data_TenK101\"\n",
        "subd = os.listdir(zip_path) #Returns sub-directories\n",
        "\n",
        "bg_path = '/content/drive/My Drive/ZipExtract/data_TenK101/BG'\n",
        "\n",
        "bgfg_path = '/content/drive/My Drive/ZipExtract/data_TenK101/BG_FG' \n",
        "\n",
        "bgfg_mask_path = '/content/drive/My Drive/ZipExtract/data_TenK101/BG_FG Masks'\n",
        "\n",
        "depthmap_path = '/content/drive/My Drive/ZipExtract/data_TenK101/DepthMaps'\n"
      ],
      "execution_count": 5,
      "outputs": []
    },
    {
      "cell_type": "markdown",
      "metadata": {
        "id": "H8moDUGEnCBn",
        "colab_type": "text"
      },
      "source": [
        "**Some basic checks**"
      ]
    },
    {
      "cell_type": "code",
      "metadata": {
        "id": "JJ0hOGQe49pB",
        "colab_type": "code",
        "colab": {}
      },
      "source": [
        "sorted(os.listdir(bgfg_mask_path))[:-10]"
      ],
      "execution_count": null,
      "outputs": []
    },
    {
      "cell_type": "code",
      "metadata": {
        "id": "y6-YJ64DndBa",
        "colab_type": "code",
        "colab": {
          "base_uri": "https://localhost:8080/",
          "height": 35
        },
        "outputId": "0926a3fb-2980-4650-a08b-3acbce793562"
      },
      "source": [
        "from PIL import Image\n",
        "import cv2\n",
        "img = cv2.imread('/content/drive/My Drive/ZipExtract/data_TenK101/BG_FG Masks/bg_001_fg_001_001.jpeg')\n",
        "img.shape"
      ],
      "execution_count": null,
      "outputs": [
        {
          "output_type": "execute_result",
          "data": {
            "text/plain": [
              "(224, 224, 3)"
            ]
          },
          "metadata": {
            "tags": []
          },
          "execution_count": 8
        }
      ]
    },
    {
      "cell_type": "code",
      "metadata": {
        "id": "YKm_bz2AV8I2",
        "colab_type": "code",
        "colab": {
          "base_uri": "https://localhost:8080/",
          "height": 35
        },
        "outputId": "4920e9a3-396b-44a2-b0cf-49d74731c50a"
      },
      "source": [
        "foldersize=[len(os.listdir(path)) for path in [bg_path, bgfg_path, bgfg_mask_path, depthmap_path]]\n",
        "foldersize"
      ],
      "execution_count": null,
      "outputs": [
        {
          "output_type": "execute_result",
          "data": {
            "text/plain": [
              "[100, 10000, 10000, 10000]"
            ]
          },
          "metadata": {
            "tags": []
          },
          "execution_count": 9
        }
      ]
    },
    {
      "cell_type": "code",
      "metadata": {
        "id": "eG26BUjBWwmf",
        "colab_type": "code",
        "colab": {}
      },
      "source": [
        "mask = sorted([ file for file in os.listdir(bgfg_mask_path)])\n",
        "mask[:4]\n"
      ],
      "execution_count": null,
      "outputs": []
    },
    {
      "cell_type": "markdown",
      "metadata": {
        "id": "jDhtdJ0jVCr3",
        "colab_type": "text"
      },
      "source": [
        "\n",
        "**Dataset Creation**"
      ]
    },
    {
      "cell_type": "code",
      "metadata": {
        "id": "wrqVnVKwXo2d",
        "colab_type": "code",
        "colab": {}
      },
      "source": [
        "# NOTE: Have done a lot of commenting below, because it's tricky.\n",
        "\n",
        "# Now the first task is to clip input and output\n",
        "# This is done since BG has only 100 images while BG_FG has around 400K, but for this I'm using 10K\n",
        "# Now to do this I've used this snippet below, which will clip in the inputs with it's corresponding ground truth\n",
        "\n",
        "masks = [mask for mask in os.listdir(bgfg_mask_path)] # Mask Files\n",
        "\n",
        "bg_idx = [int(m.split('_')[1]) for m in masks] # Background file index\n",
        "\n",
        "\n",
        "bgfiles = [os.path.join(bg_path, bg) for bg in os.listdir(bg_path)] # all 100 BG Files\n",
        "bg_files = sorted([os.path.join(bgfg_mask_path, bgfiles[idx-1]) for idx in bg_idx ]) # BG Files of Proper index\n"
      ],
      "execution_count": 6,
      "outputs": []
    },
    {
      "cell_type": "markdown",
      "metadata": {
        "id": "JVdX6_Wb2BcQ",
        "colab_type": "text"
      },
      "source": [
        "**Zipping Data Elements**"
      ]
    },
    {
      "cell_type": "code",
      "metadata": {
        "colab_type": "code",
        "id": "3_wcNcSsVBBt",
        "colab": {}
      },
      "source": [
        "# I have zipped both bg and bg_fg as image segmentation input.\n",
        "bg_files = sorted([os.path.join(bgfg_mask_path, bgfiles[idx-1]) for idx in bg_idx ]) # BG Files\n",
        "bgfg_mask_files = sorted([os.path.join(bgfg_mask_path, mask) for mask in os.listdir(bgfg_mask_path)]) #BGFG MASK Files\n",
        "bgfg_files = sorted([os.path.join(bgfg_path, bgfg) for bgfg in os.listdir(bgfg_path)]) # BGFG files\n",
        "dpmap_files = sorted([os.path.join(depthmap_path, map) for map in os.listdir(depthmap_path)]) #DEPTH MAP\n",
        "\n",
        "s15_data = list(zip(bg_files, bgfg_files, bgfg_mask_files, dpmap_files)) # for bg add rev_bg_files directly and for depth estimation you can add depth maps\n"
      ],
      "execution_count": 7,
      "outputs": []
    },
    {
      "cell_type": "markdown",
      "metadata": {
        "id": "ScWc4QH2mhXt",
        "colab_type": "text"
      },
      "source": [
        "**Image Transformations**"
      ]
    },
    {
      "cell_type": "code",
      "metadata": {
        "colab_type": "code",
        "id": "EEtTUGubmf3W",
        "colab": {
          "base_uri": "https://localhost:8080/",
          "height": 111
        },
        "outputId": "a6c922ed-1dd6-4c7e-9f58-35d48a1b3ff5"
      },
      "source": [
        "import albumentations as A\n",
        "import albumentations.pytorch as AP\n",
        "\n",
        "# BG Images\n",
        "bg_mean = (0.5411, 0.54, 0.54)\n",
        "bg_stdev = (0.2320, 0.23, 0.23)\n",
        "\n",
        "# FG_BG Images\n",
        "fgbg_mean = (0.513, 0.536, 0.5546)\n",
        "fgbg_stdev = (0.2355, 0.2317, 0.2326)\n",
        "\n",
        "# FG Mask Images   # SINGLE CHANNEL\n",
        "mask_mean = (0.051)\n",
        "mask_stdev = (0.226)#, 0.4025, 0.4025)\n",
        "\n",
        "# Depth Maps\n",
        "dpmap_mean = (0.3045)\n",
        "dpmap_stdev = (0.1130)\n",
        "\n",
        "# Used same type of transformations for both Train & Test Data\n",
        "\n",
        "bg_transform = AlbumentationTransforms([A.Resize(192,192,p=1),\n",
        "                                                A.Normalize(mean=bg_mean,\n",
        "                                                std=bg_stdev)])\n",
        "\n",
        "bgfg_transform = AlbumentationTransforms([A.Resize(192,192,p=1),\n",
        "                                                # A.HueSaturationValue(p=1),\n",
        "                                                A.Normalize(mean=fgbg_mean,\n",
        "                                              std=fgbg_stdev)])\n",
        "\n",
        "bgfg_mask_transform = SingleChannel_ImageTransforms([A.Resize(192,192,p=1),\n",
        "                                                    A.Normalize(mean=mask_mean,\n",
        "                                                    std=mask_stdev)])\n",
        "\n",
        "dpmap_transform = SingleChannel_ImageTransforms([A.Resize(192,192,p=1),\n",
        "                                                 A.Normalize(mean=dpmap_mean,\n",
        "                                                std=dpmap_stdev)])"
      ],
      "execution_count": 8,
      "outputs": [
        {
          "output_type": "stream",
          "text": [
            "transforms list [<albumentations.augmentations.transforms.Resize object at 0x7f7cc1bd5ef0>, <albumentations.augmentations.transforms.Normalize object at 0x7f7cc1bd5f28>, <albumentations.pytorch.transforms.ToTensor object at 0x7f7cc1bd5f98>]\n",
            "transforms list [<albumentations.augmentations.transforms.Resize object at 0x7f7cc1bd5eb8>, <albumentations.augmentations.transforms.Normalize object at 0x7f7cc1bab080>, <albumentations.pytorch.transforms.ToTensor object at 0x7f7cc1bab0f0>]\n",
            "transforms list [<albumentations.augmentations.transforms.Resize object at 0x7f7cc1bab048>, <albumentations.augmentations.transforms.Normalize object at 0x7f7cc1bab198>, <albumentations.pytorch.transforms.ToTensor object at 0x7f7cc1bab208>]\n",
            "transforms list [<albumentations.augmentations.transforms.Resize object at 0x7f7cc1bab160>, <albumentations.augmentations.transforms.Normalize object at 0x7f7cc1bab2b0>, <albumentations.pytorch.transforms.ToTensor object at 0x7f7cc1bab320>]\n"
          ],
          "name": "stdout"
        }
      ]
    },
    {
      "cell_type": "code",
      "metadata": {
        "id": "zu_2uEZiUrXv",
        "colab_type": "code",
        "colab": {}
      },
      "source": [
        "_s15 = s15_data[:5001] # using a subset of only 5000 images out of s15_data"
      ],
      "execution_count": 9,
      "outputs": []
    },
    {
      "cell_type": "code",
      "metadata": {
        "id": "CJJ4sRT39fs3",
        "colab_type": "code",
        "colab": {}
      },
      "source": [
        "train = DepthMapDataset(_s15[:3500], bg_transform,  bgfg_transform, bgfg_mask_transform, dpmap_transform) #bg_transform,, dpmap_transform)\n",
        "test = DepthMapDataset(_s15[3501:], bg_transform, bgfg_transform, bgfg_mask_transform, dpmap_transform)"
      ],
      "execution_count": 10,
      "outputs": []
    },
    {
      "cell_type": "markdown",
      "metadata": {
        "id": "HVRpiXDmD-sb",
        "colab_type": "text"
      },
      "source": [
        "**TRAINLOADER & TESTLOADER**"
      ]
    },
    {
      "cell_type": "code",
      "metadata": {
        "id": "sYULLgTxq3qc",
        "colab_type": "code",
        "colab": {}
      },
      "source": [
        "trainLoader, testLoader = Data_To_Dataloader(train,test,batch_size=64)"
      ],
      "execution_count": 11,
      "outputs": []
    },
    {
      "cell_type": "markdown",
      "metadata": {
        "id": "ehBUO5LJDlvU",
        "colab_type": "text"
      },
      "source": [
        "**Writing to Tensorboard**"
      ]
    },
    {
      "cell_type": "code",
      "metadata": {
        "id": "VOE0Sr82Dk7Q",
        "colab_type": "code",
        "colab": {}
      },
      "source": [
        "import matplotlib.pyplot as plt\n",
        "dataiter = iter(trainLoader)\n",
        "bg, bgfg, mask, dpmap = next(dataiter)['bg'], next(dataiter)['bgfg'], next(dataiter)['mask'], next(dataiter)['dpmap']\n",
        "\n",
        "bgfg_grid = torchvision.utils.make_grid(bgfg)\n",
        "\n",
        "# matplotlib_imshow(bgfg_images)\n",
        "writer.add_image('BG_FG Images', bgfg_grid)"
      ],
      "execution_count": null,
      "outputs": []
    },
    {
      "cell_type": "code",
      "metadata": {
        "id": "CVkAngCqGIyn",
        "colab_type": "code",
        "colab": {}
      },
      "source": [
        "# %tensorboard -- logdir=/content/runs/Aug05_10-08-37_c31f995905fa\n",
        "%tensorboard --logdir logs/tensorboard"
      ],
      "execution_count": null,
      "outputs": []
    },
    {
      "cell_type": "code",
      "metadata": {
        "id": "WaiPkA2OSc_Y",
        "colab_type": "code",
        "colab": {
          "base_uri": "https://localhost:8080/",
          "height": 1000
        },
        "outputId": "bea5b75f-9204-45f8-84fc-73737b4be895"
      },
      "source": [
        "from torchsummary import summary\n",
        "import torch\n",
        "cuda = torch.cuda.is_available()\n",
        "device = torch.device(\"cuda\" if cuda else \"cpu\")\n",
        "unet_model = UNet(6,1).to(device)\n",
        "\n",
        "summary(unet_model, input_size=(6, 192, 192))"
      ],
      "execution_count": 12,
      "outputs": [
        {
          "output_type": "stream",
          "text": [
            "----------------------------------------------------------------\n",
            "        Layer (type)               Output Shape         Param #\n",
            "================================================================\n",
            "            Conv2d-1         [-1, 16, 192, 192]             880\n",
            "       BatchNorm2d-2         [-1, 16, 192, 192]              32\n",
            "           Dropout-3         [-1, 16, 192, 192]               0\n",
            "              ReLU-4         [-1, 16, 192, 192]               0\n",
            "            Conv2d-5         [-1, 16, 192, 192]           2,320\n",
            "       BatchNorm2d-6         [-1, 16, 192, 192]              32\n",
            "           Dropout-7         [-1, 16, 192, 192]               0\n",
            "              ReLU-8         [-1, 16, 192, 192]               0\n",
            "        DoubleConv-9         [-1, 16, 192, 192]               0\n",
            "        MaxPool2d-10           [-1, 16, 96, 96]               0\n",
            "           Conv2d-11           [-1, 32, 96, 96]           4,640\n",
            "      BatchNorm2d-12           [-1, 32, 96, 96]              64\n",
            "          Dropout-13           [-1, 32, 96, 96]               0\n",
            "             ReLU-14           [-1, 32, 96, 96]               0\n",
            "           Conv2d-15           [-1, 32, 96, 96]           9,248\n",
            "      BatchNorm2d-16           [-1, 32, 96, 96]              64\n",
            "          Dropout-17           [-1, 32, 96, 96]               0\n",
            "             ReLU-18           [-1, 32, 96, 96]               0\n",
            "       DoubleConv-19           [-1, 32, 96, 96]               0\n",
            "       DownSample-20           [-1, 32, 96, 96]               0\n",
            "        MaxPool2d-21           [-1, 32, 48, 48]               0\n",
            "           Conv2d-22           [-1, 64, 48, 48]          18,496\n",
            "      BatchNorm2d-23           [-1, 64, 48, 48]             128\n",
            "          Dropout-24           [-1, 64, 48, 48]               0\n",
            "             ReLU-25           [-1, 64, 48, 48]               0\n",
            "           Conv2d-26           [-1, 64, 48, 48]          36,928\n",
            "      BatchNorm2d-27           [-1, 64, 48, 48]             128\n",
            "          Dropout-28           [-1, 64, 48, 48]               0\n",
            "             ReLU-29           [-1, 64, 48, 48]               0\n",
            "       DoubleConv-30           [-1, 64, 48, 48]               0\n",
            "       DownSample-31           [-1, 64, 48, 48]               0\n",
            "        MaxPool2d-32           [-1, 64, 24, 24]               0\n",
            "           Conv2d-33          [-1, 128, 24, 24]          73,856\n",
            "      BatchNorm2d-34          [-1, 128, 24, 24]             256\n",
            "          Dropout-35          [-1, 128, 24, 24]               0\n",
            "             ReLU-36          [-1, 128, 24, 24]               0\n",
            "           Conv2d-37          [-1, 128, 24, 24]         147,584\n",
            "      BatchNorm2d-38          [-1, 128, 24, 24]             256\n",
            "          Dropout-39          [-1, 128, 24, 24]               0\n",
            "             ReLU-40          [-1, 128, 24, 24]               0\n",
            "       DoubleConv-41          [-1, 128, 24, 24]               0\n",
            "       DownSample-42          [-1, 128, 24, 24]               0\n",
            "        MaxPool2d-43          [-1, 128, 12, 12]               0\n",
            "           Conv2d-44          [-1, 128, 12, 12]         147,584\n",
            "      BatchNorm2d-45          [-1, 128, 12, 12]             256\n",
            "          Dropout-46          [-1, 128, 12, 12]               0\n",
            "             ReLU-47          [-1, 128, 12, 12]               0\n",
            "           Conv2d-48          [-1, 128, 12, 12]         147,584\n",
            "      BatchNorm2d-49          [-1, 128, 12, 12]             256\n",
            "          Dropout-50          [-1, 128, 12, 12]               0\n",
            "             ReLU-51          [-1, 128, 12, 12]               0\n",
            "       DoubleConv-52          [-1, 128, 12, 12]               0\n",
            "       DownSample-53          [-1, 128, 12, 12]               0\n",
            "         Upsample-54          [-1, 128, 24, 24]               0\n",
            "           Conv2d-55          [-1, 128, 24, 24]         295,040\n",
            "      BatchNorm2d-56          [-1, 128, 24, 24]             256\n",
            "          Dropout-57          [-1, 128, 24, 24]               0\n",
            "             ReLU-58          [-1, 128, 24, 24]               0\n",
            "           Conv2d-59           [-1, 64, 24, 24]          73,792\n",
            "      BatchNorm2d-60           [-1, 64, 24, 24]             128\n",
            "          Dropout-61           [-1, 64, 24, 24]               0\n",
            "             ReLU-62           [-1, 64, 24, 24]               0\n",
            "       DoubleConv-63           [-1, 64, 24, 24]               0\n",
            "         UpSample-64           [-1, 64, 24, 24]               0\n",
            "         Upsample-65           [-1, 64, 48, 48]               0\n",
            "           Conv2d-66           [-1, 64, 48, 48]          73,792\n",
            "      BatchNorm2d-67           [-1, 64, 48, 48]             128\n",
            "          Dropout-68           [-1, 64, 48, 48]               0\n",
            "             ReLU-69           [-1, 64, 48, 48]               0\n",
            "           Conv2d-70           [-1, 32, 48, 48]          18,464\n",
            "      BatchNorm2d-71           [-1, 32, 48, 48]              64\n",
            "          Dropout-72           [-1, 32, 48, 48]               0\n",
            "             ReLU-73           [-1, 32, 48, 48]               0\n",
            "       DoubleConv-74           [-1, 32, 48, 48]               0\n",
            "         UpSample-75           [-1, 32, 48, 48]               0\n",
            "         Upsample-76           [-1, 32, 96, 96]               0\n",
            "           Conv2d-77           [-1, 32, 96, 96]          18,464\n",
            "      BatchNorm2d-78           [-1, 32, 96, 96]              64\n",
            "          Dropout-79           [-1, 32, 96, 96]               0\n",
            "             ReLU-80           [-1, 32, 96, 96]               0\n",
            "           Conv2d-81           [-1, 16, 96, 96]           4,624\n",
            "      BatchNorm2d-82           [-1, 16, 96, 96]              32\n",
            "          Dropout-83           [-1, 16, 96, 96]               0\n",
            "             ReLU-84           [-1, 16, 96, 96]               0\n",
            "       DoubleConv-85           [-1, 16, 96, 96]               0\n",
            "         UpSample-86           [-1, 16, 96, 96]               0\n",
            "         Upsample-87         [-1, 16, 192, 192]               0\n",
            "           Conv2d-88         [-1, 16, 192, 192]           4,624\n",
            "      BatchNorm2d-89         [-1, 16, 192, 192]              32\n",
            "          Dropout-90         [-1, 16, 192, 192]               0\n",
            "             ReLU-91         [-1, 16, 192, 192]               0\n",
            "           Conv2d-92         [-1, 16, 192, 192]           2,320\n",
            "      BatchNorm2d-93         [-1, 16, 192, 192]              32\n",
            "          Dropout-94         [-1, 16, 192, 192]               0\n",
            "             ReLU-95         [-1, 16, 192, 192]               0\n",
            "       DoubleConv-96         [-1, 16, 192, 192]               0\n",
            "         UpSample-97         [-1, 16, 192, 192]               0\n",
            "           Conv2d-98          [-1, 1, 192, 192]              17\n",
            "          OutConv-99          [-1, 1, 192, 192]               0\n",
            "       MaxPool2d-100           [-1, 16, 96, 96]               0\n",
            "          Conv2d-101           [-1, 32, 96, 96]           4,640\n",
            "     BatchNorm2d-102           [-1, 32, 96, 96]              64\n",
            "         Dropout-103           [-1, 32, 96, 96]               0\n",
            "            ReLU-104           [-1, 32, 96, 96]               0\n",
            "          Conv2d-105           [-1, 32, 96, 96]           9,248\n",
            "     BatchNorm2d-106           [-1, 32, 96, 96]              64\n",
            "         Dropout-107           [-1, 32, 96, 96]               0\n",
            "            ReLU-108           [-1, 32, 96, 96]               0\n",
            "      DoubleConv-109           [-1, 32, 96, 96]               0\n",
            "      DownSample-110           [-1, 32, 96, 96]               0\n",
            "       MaxPool2d-111           [-1, 32, 48, 48]               0\n",
            "          Conv2d-112           [-1, 64, 48, 48]          18,496\n",
            "     BatchNorm2d-113           [-1, 64, 48, 48]             128\n",
            "         Dropout-114           [-1, 64, 48, 48]               0\n",
            "            ReLU-115           [-1, 64, 48, 48]               0\n",
            "          Conv2d-116           [-1, 64, 48, 48]          36,928\n",
            "     BatchNorm2d-117           [-1, 64, 48, 48]             128\n",
            "         Dropout-118           [-1, 64, 48, 48]               0\n",
            "            ReLU-119           [-1, 64, 48, 48]               0\n",
            "      DoubleConv-120           [-1, 64, 48, 48]               0\n",
            "      DownSample-121           [-1, 64, 48, 48]               0\n",
            "       MaxPool2d-122           [-1, 64, 24, 24]               0\n",
            "          Conv2d-123          [-1, 128, 24, 24]          73,856\n",
            "     BatchNorm2d-124          [-1, 128, 24, 24]             256\n",
            "         Dropout-125          [-1, 128, 24, 24]               0\n",
            "            ReLU-126          [-1, 128, 24, 24]               0\n",
            "          Conv2d-127          [-1, 128, 24, 24]         147,584\n",
            "     BatchNorm2d-128          [-1, 128, 24, 24]             256\n",
            "         Dropout-129          [-1, 128, 24, 24]               0\n",
            "            ReLU-130          [-1, 128, 24, 24]               0\n",
            "      DoubleConv-131          [-1, 128, 24, 24]               0\n",
            "      DownSample-132          [-1, 128, 24, 24]               0\n",
            "       MaxPool2d-133          [-1, 128, 12, 12]               0\n",
            "          Conv2d-134          [-1, 128, 12, 12]         147,584\n",
            "     BatchNorm2d-135          [-1, 128, 12, 12]             256\n",
            "         Dropout-136          [-1, 128, 12, 12]               0\n",
            "            ReLU-137          [-1, 128, 12, 12]               0\n",
            "          Conv2d-138          [-1, 128, 12, 12]         147,584\n",
            "     BatchNorm2d-139          [-1, 128, 12, 12]             256\n",
            "         Dropout-140          [-1, 128, 12, 12]               0\n",
            "            ReLU-141          [-1, 128, 12, 12]               0\n",
            "      DoubleConv-142          [-1, 128, 12, 12]               0\n",
            "      DownSample-143          [-1, 128, 12, 12]               0\n",
            "        Upsample-144          [-1, 128, 24, 24]               0\n",
            "          Conv2d-145          [-1, 128, 24, 24]         295,040\n",
            "     BatchNorm2d-146          [-1, 128, 24, 24]             256\n",
            "         Dropout-147          [-1, 128, 24, 24]               0\n",
            "            ReLU-148          [-1, 128, 24, 24]               0\n",
            "          Conv2d-149           [-1, 64, 24, 24]          73,792\n",
            "     BatchNorm2d-150           [-1, 64, 24, 24]             128\n",
            "         Dropout-151           [-1, 64, 24, 24]               0\n",
            "            ReLU-152           [-1, 64, 24, 24]               0\n",
            "      DoubleConv-153           [-1, 64, 24, 24]               0\n",
            "        UpSample-154           [-1, 64, 24, 24]               0\n",
            "        Upsample-155           [-1, 64, 48, 48]               0\n",
            "          Conv2d-156           [-1, 64, 48, 48]          73,792\n",
            "     BatchNorm2d-157           [-1, 64, 48, 48]             128\n",
            "         Dropout-158           [-1, 64, 48, 48]               0\n",
            "            ReLU-159           [-1, 64, 48, 48]               0\n",
            "          Conv2d-160           [-1, 32, 48, 48]          18,464\n",
            "     BatchNorm2d-161           [-1, 32, 48, 48]              64\n",
            "         Dropout-162           [-1, 32, 48, 48]               0\n",
            "            ReLU-163           [-1, 32, 48, 48]               0\n",
            "      DoubleConv-164           [-1, 32, 48, 48]               0\n",
            "        UpSample-165           [-1, 32, 48, 48]               0\n",
            "        Upsample-166           [-1, 32, 96, 96]               0\n",
            "          Conv2d-167           [-1, 32, 96, 96]          18,464\n",
            "     BatchNorm2d-168           [-1, 32, 96, 96]              64\n",
            "         Dropout-169           [-1, 32, 96, 96]               0\n",
            "            ReLU-170           [-1, 32, 96, 96]               0\n",
            "          Conv2d-171           [-1, 16, 96, 96]           4,624\n",
            "     BatchNorm2d-172           [-1, 16, 96, 96]              32\n",
            "         Dropout-173           [-1, 16, 96, 96]               0\n",
            "            ReLU-174           [-1, 16, 96, 96]               0\n",
            "      DoubleConv-175           [-1, 16, 96, 96]               0\n",
            "        UpSample-176           [-1, 16, 96, 96]               0\n",
            "        Upsample-177         [-1, 16, 192, 192]               0\n",
            "          Conv2d-178         [-1, 16, 192, 192]           4,624\n",
            "     BatchNorm2d-179         [-1, 16, 192, 192]              32\n",
            "         Dropout-180         [-1, 16, 192, 192]               0\n",
            "            ReLU-181         [-1, 16, 192, 192]               0\n",
            "          Conv2d-182         [-1, 16, 192, 192]           2,320\n",
            "     BatchNorm2d-183         [-1, 16, 192, 192]              32\n",
            "         Dropout-184         [-1, 16, 192, 192]               0\n",
            "            ReLU-185         [-1, 16, 192, 192]               0\n",
            "      DoubleConv-186         [-1, 16, 192, 192]               0\n",
            "        UpSample-187         [-1, 16, 192, 192]               0\n",
            "          Conv2d-188          [-1, 1, 192, 192]              17\n",
            "         OutConv-189          [-1, 1, 192, 192]               0\n",
            "================================================================\n",
            "Total params: 2,161,666\n",
            "Trainable params: 2,161,666\n",
            "Non-trainable params: 0\n",
            "----------------------------------------------------------------\n",
            "Input size (MB): 0.84\n",
            "Forward/backward pass size (MB): 289.41\n",
            "Params size (MB): 8.25\n",
            "Estimated Total Size (MB): 298.50\n",
            "----------------------------------------------------------------\n"
          ],
          "name": "stdout"
        }
      ]
    },
    {
      "cell_type": "markdown",
      "metadata": {
        "id": "HTulUlZeQDja",
        "colab_type": "text"
      },
      "source": [
        "**LOSS FUNCTIONS & CO-EFFICIENT**"
      ]
    },
    {
      "cell_type": "code",
      "metadata": {
        "id": "Kk0Kfk2swlqX",
        "colab_type": "code",
        "colab": {}
      },
      "source": [
        "from torch.optim import Adam, SGD\n",
        "from torch.optim.lr_scheduler import ReduceLROnPlateau\n",
        "\n",
        "unet_model = UNet(6,1).to(device)  # MODEL\n",
        "\n",
        "# CRITERION PART\n",
        "depth_c = IoULoss() \n",
        "mask_c = nn.BCEWithLogitsLoss()\n",
        "\n",
        "optimizer = torch.optim.SGD(unet_model.parameters(), lr = 0.01)\n",
        "current_lr = [param_group['lr'] for param_group in optimizer.param_groups][0]\n",
        "scheduler = torch.optim.lr_scheduler.ReduceLROnPlateau(optimizer, factor=0.5, patience=2, threshold=0.001)\n",
        "\n",
        "\n",
        "# Model Config Class\n",
        "class ModelConfig:\n",
        "  def __init__(self, **kwargs):\n",
        "    for k, v in kwargs.items():\n",
        "      setattr(self, k, v)\n",
        "\n",
        "\n",
        "# Model Configs\n",
        "model_config = ModelConfig(\n",
        "    cuda = True if torch.cuda.is_available() else False,\n",
        "    device = torch.device(\"cuda\" if torch.cuda.is_available() else \"cpu\"),\n",
        "    seed = 9091,\n",
        "    model = unet_model, \n",
        "    trainloader = trainLoader,\n",
        "    testloader = testLoader, \n",
        "    lr = 0.01,\n",
        "    mask_criterion = mask_c,\n",
        "    depth_criterion = depth_c,\n",
        "    optimizer = torch.optim.Adam(unet_model.parameters(),lr=0.01),\n",
        "    scheduler = ReduceLROnPlateau(optimizer, mode='min', patience=2, verbose=True),\n",
        "    epochs = 10,\n",
        "    save_model = False,\n",
        "    batch_size = 64,)\n"
      ],
      "execution_count": 13,
      "outputs": []
    },
    {
      "cell_type": "code",
      "metadata": {
        "id": "c9sXafvyxIo8",
        "colab_type": "code",
        "colab": {}
      },
      "source": [
        ""
      ],
      "execution_count": null,
      "outputs": []
    },
    {
      "cell_type": "code",
      "metadata": {
        "id": "_AHN_XjBQwl3",
        "colab_type": "code",
        "colab": {}
      },
      "source": [
        "\n",
        "import time\n",
        "from tqdm import notebook\n",
        "class Trainer:\n",
        "  def __init__(self, config):\n",
        "    self.model = config.model\n",
        "    self.device = config.device\n",
        "    self.trainloader = config.trainloader\n",
        "    self.testloader = config.testloader\n",
        "    self.epochs = config.epochs\n",
        "    self.optimizer = config.optimizer\n",
        "    self.scheduler = config.scheduler\n",
        "    self.mask_criterion = config.mask_criterion\n",
        "    self.depth_criterion = config.depth_criterion\n",
        "    self.valid_loss_min = np.inf\n",
        "\n",
        "    # initialize training variables\n",
        "    self.train_losses = []\n",
        "    self.test_losses = []\n",
        "    self.learning_rate = []\n",
        "\n",
        "    # loss coeffs \n",
        "    ## TRAIN\n",
        "    self.dice_scores = []\n",
        "    self.iou_scores = [] \n",
        "    self.d_ssim_index = []\n",
        "  \n",
        "    ## TEST \n",
        "    self.test_dice_scores = []\n",
        "    self.test_iou_scores = []\n",
        "    self.test_d_ssim_index = []\n",
        " \n",
        "\n",
        "    # Sample Container\n",
        "    self._trainsamples = []\n",
        "    self._testsamples = []\n",
        "\n",
        "\n",
        "    # train_loss, valid_loss, dice_score, iou_score, mask_ssim_index\n",
        "    self.train_loss = 0.0\n",
        "    self.valid_loss = 0.0\n",
        "\n",
        "    self.iou_score = 0.0\n",
        "    self.depth_ssim_index = 0.0\n",
        "    \n",
        "\n",
        "    # # TensorboardColab\n",
        "    # self.tb = TensorboardColab()\n",
        "    # self.train_iter = 0\n",
        "    # self.test_iter = 0\n",
        "\n",
        "    # other variables\n",
        "    self.epoch = 0\n",
        "\n",
        "\n",
        "  def train(self):\n",
        "    self.epoch += 1\n",
        "    self.model.train()  \n",
        "    self.epoch_start = time.time()    \n",
        "    pbar = notebook.tqdm(enumerate(self.trainloader))\n",
        "\n",
        "    for batch_idx, data in enumerate(pbar):     \n",
        "\n",
        "        # assigning bgfg and mask with a bgfg and mask image from trainloader\n",
        "        bg, bgfg, mask, dpmap = data[1]['bg'].to(self.device), data[1]['bgfg'].to(self.device), data[1]['mask'].to(self.device), data[1]['dpmap'].to(self.device)\n",
        "        \n",
        "        input_image = data[1]['input'].to(self.device)\n",
        "      \n",
        "        # clear the gradients of all optimized variables\n",
        "        self.optimizer.zero_grad()\n",
        "\n",
        "        # Run the model on this input batch\n",
        "        pred_mask, pred_dpmap = self.model(input_image) # 96x96x2\n",
        "        \n",
        "        # calculate loss using criterion\n",
        "        maskloss = self.mask_criterion(pred_mask, mask) # Output, Target\n",
        "        dpmaploss = self.depth_criterion(pred_dpmap, dpmap)\n",
        "\n",
        "        depth_ssim_index = ssim(pred_dpmap, dpmap) # ssim loss function\n",
        "        depth_ssim = torch.clamp((1 - ssim(pred_dpmap, dpmap)) * 0.5, 0, 1)\n",
        "\n",
        "        \n",
        "        loss =  (depth_ssim *0.9 + dpmaploss *0.1 + maskloss)\n",
        "\n",
        "        # for backpropagation\n",
        "        loss.backward()\n",
        "\n",
        "        # parameter update\n",
        "        self.optimizer.step()\n",
        "\n",
        "        # For checking input images\n",
        "        # For checking input images\n",
        "        if self.epoch == 5: #\n",
        "          self._trainsamples.append({'pred_dpmap':pred_dpmap, 'pred_mask': pred_mask,'dpmap': dpmap, 'mask': mask, 'bgfg': bgfg, 'bg': bg})\n",
        "\n",
        "        # calculate average training loss\n",
        "        train_data_size = len(self.trainloader)*self.trainloader.batch_size\n",
        "        self.train_loss += loss.item() #*trainLoader.batch_size\n",
        "\n",
        "        self.depth_ssim_index += depth_ssim.item()*self.trainloader.batch_size\n",
        "\n",
        "        self.iou_score += (1-maskloss.item())*self.trainloader.batch_size\n",
        "        # rmse_score += (rmse_v.item())*trainLoader.batch_size\n",
        "\n",
        "\n",
        "        # Update PBAR-TQDM\n",
        "        pbar.set_description(f'TrainLoss={loss.item():0.3f}; IoU={1-dpmaploss.item():0.3f}')\n",
        "        \n",
        "        \n",
        "    # Calculate Avg Model Params\n",
        "    train_loss = self.train_loss/len(self.trainloader)\n",
        "    depth_ssim_index = self.depth_ssim_index/train_data_size\n",
        "    # rmse = rmse_score/train_data_size\n",
        "    iou = self.iou_score/train_data_size\n",
        "    \n",
        "    # Append the same\n",
        "    self.train_losses.append(train_loss)\n",
        "    # self.dice_scores.append(dice_score)\n",
        "    self.d_ssim_index.append(depth_ssim_index)\n",
        "    self.iou_scores.append(iou)\n",
        "    \n",
        "    \n",
        "    # # writing model attr to tensorboard\n",
        "    # self.tb.save_value('IoU Score', 'iou score', self.train_iter, iou_score)\n",
        "    # self.tb.save_value('Train Loss', 'train loss', self.train_iter, train_loss) \n",
        "    \n",
        "\n",
        "  def test(self):\n",
        "    self.model.eval()\n",
        "    pbar = notebook.tqdm(enumerate(self.testloader))\n",
        "    with torch.no_grad(): \n",
        "      for batch_idx, data in enumerate(pbar):\n",
        "        bg, bgfg, mask, dpmap = data[1]['bg'].to(self.device), data[1]['bgfg'].to(self.device), data[1]['mask'].to(self.device), data[1]['dpmap'].to(self.device)\n",
        "\n",
        "        # concatenate two input images\n",
        "        input_image = data[1]['input'].to(device)\n",
        "\n",
        "        # Model Predictions\n",
        "        pred_mask, pred_dpmap = self.model(input_image) \n",
        "        \n",
        "        # calculate loss using criterion\n",
        "        maskloss = self.mask_criterion(pred_mask, mask) # Output, Target\n",
        "        dpmaploss = self.depth_criterion(pred_dpmap, dpmap)\n",
        "\n",
        "        depth_ssim_index = ssim(pred_dpmap, dpmap)\n",
        "        depth_ssim = torch.clamp((1 - ssim(pred_dpmap, dpmap)) * 0.5, 0, 1)\n",
        "\n",
        "        \n",
        "        loss =  (depth_ssim *0.8 + dpmaploss *0.2 + maskloss)\n",
        "\n",
        "\n",
        "        # calculate average test loss\n",
        "        test_data_size = len(self.testloader)*self.testloader.batch_size\n",
        "        self.valid_loss += loss.item()\n",
        "        self.depth_ssim_index += depth_ssim_index.item()*self.testloader.batch_size\n",
        "        # self.dice_score += (1-maskloss.item())*self.testloader.batch_size\n",
        "        self.iou_score += (1-maskloss.item())*self.testloader.batch_size\n",
        "\n",
        "        # Update PBAR-TQDM\n",
        "        pbar.set_description(f'ValidationLoss={loss.item():0.3f}; IoU={1-maskloss.item():0.3f}')\n",
        "\n",
        "\n",
        "        # For checking prediction results\n",
        "        if self.epoch == 5: #\n",
        "          self._testsamples.append({'pred_dpmap':pred_dpmap, 'pred_mask': pred_mask,'dpmap': dpmap, 'mask': mask, 'bgfg': bgfg, 'bg': bg})\n",
        "\n",
        "      #  current lr\n",
        "      clr = [param_group['lr'] for param_group in self.optimizer.param_groups]\n",
        "      print('Learning Rate:', clr)\n",
        "\n",
        "      # update loss and loss-coefficients\n",
        "      self.valid_loss = self.valid_loss/len(self.testloader)\n",
        "      self.depth_ssim_index = self.depth_ssim_index/test_data_size\n",
        "      # dice_coeff = self.dice_score/test_data_size\n",
        "      self.iou_coeff = self.iou_score/test_data_size\n",
        "\n",
        "      # append the same \n",
        "      self.test_losses.append(self.valid_loss_min)\n",
        "      self.test_d_ssim_index.append(self.depth_ssim_index)\n",
        "      # self.m_ssim_index.append(mask_ssim_index)\n",
        "      # self.dice_scores.append(dice_coeff)\n",
        "      self.test_iou_scores.append(self.iou_coeff)\n",
        "      self.learning_rate.append(clr)\n",
        "\n",
        "\n",
        "      # update learning rate\n",
        "      self.scheduler.step(self.valid_loss)\n",
        "\n",
        "\n",
        "\n",
        "  # print training/validation statistics\n",
        "    print('IoU_Score={:.3f} '.format(self.iou_coeff))\n",
        "\n",
        "\n",
        "    self.end_epoch_time = time.time()\n",
        "    print(f'Epoch {self.epoch} took {self.end_epoch_time-self.epoch_start} seconds.')\n",
        "\n",
        "    # save model if validation loss has decreased\n",
        "    if self.valid_loss <= self.valid_loss_min:\n",
        "      print('Validation loss decreased ({:.6f} --> {:.6f}).  Saving model ...'.format(self.valid_loss_min, self.valid_loss))\n",
        "      torch.save(self.model.state_dict(), '/content/drive/My Drive/Saved S15 Models/image_segmentation.pt')\n",
        "      self.valid_loss_min = self.valid_loss\n",
        "      \n",
        "\n",
        "def evaluate(configs):\n",
        "  t1 = Trainer(configs)\n",
        "  for epoch in range(t1.epoch+1):\n",
        "    t1.train()\n",
        "    t1.test()\n",
        "    if t1.scheduler and isinstance(t1.scheduler, torch.optim.lr_scheduler.ReduceLROnPlateau):\n",
        "      t1.scheduler.step(t1.test_losses[-1])"
      ],
      "execution_count": 21,
      "outputs": []
    },
    {
      "cell_type": "code",
      "metadata": {
        "id": "OAjDev5f3ZxY",
        "colab_type": "code",
        "colab": {
          "base_uri": "https://localhost:8080/",
          "height": 486,
          "referenced_widgets": [
            "969c8719463f4c96a78858b6e9e6dbd2",
            "11afa456e8294e5ab89676d97d779c5b",
            "b92619e4158e40c5b69382126a4c81fe",
            "7340f18d36074847ade80b0dad6e5802",
            "a96442131f9748c0ba0e0e6f00253815",
            "eff93b0bd2704fa0ba569b8470465f69",
            "ef7f7cfdc9dc4a70891ebec98be8075b",
            "571aa5a7e62a461c9d36abc0d6473600",
            "2e8698f8ed7d490e8dc46d28dcaea834",
            "e044455fb6914923a34d5f2888d409ca",
            "e9177b79a1724984adb8d6c0845752fd",
            "0540535625504bca95d2c6659ff7ed09",
            "09846ba53695432e956cec92ee4cee1d",
            "66267bcd19694a06bb5304fe34be54bc",
            "b5aa9950dfc640519115a6d7bf9477f6",
            "ce4e1384987b40308491dec1eac4b6b8"
          ]
        },
        "outputId": "41f2f6af-84e3-4999-9159-9f5347512793"
      },
      "source": [
        "evaluate(model_config)"
      ],
      "execution_count": 22,
      "outputs": [
        {
          "output_type": "display_data",
          "data": {
            "application/vnd.jupyter.widget-view+json": {
              "model_id": "969c8719463f4c96a78858b6e9e6dbd2",
              "version_minor": 0,
              "version_major": 2
            },
            "text/plain": [
              "HBox(children=(FloatProgress(value=1.0, bar_style='info', max=1.0), HTML(value='')))"
            ]
          },
          "metadata": {
            "tags": []
          }
        },
        {
          "output_type": "stream",
          "text": [
            "/usr/local/lib/python3.6/dist-packages/torch/nn/functional.py:1625: UserWarning: nn.functional.sigmoid is deprecated. Use torch.sigmoid instead.\n",
            "  warnings.warn(\"nn.functional.sigmoid is deprecated. Use torch.sigmoid instead.\")\n"
          ],
          "name": "stderr"
        },
        {
          "output_type": "stream",
          "text": [
            "\n"
          ],
          "name": "stdout"
        },
        {
          "output_type": "display_data",
          "data": {
            "application/vnd.jupyter.widget-view+json": {
              "model_id": "2e8698f8ed7d490e8dc46d28dcaea834",
              "version_minor": 0,
              "version_major": 2
            },
            "text/plain": [
              "HBox(children=(FloatProgress(value=1.0, bar_style='info', max=1.0), HTML(value='')))"
            ]
          },
          "metadata": {
            "tags": []
          }
        },
        {
          "output_type": "stream",
          "text": [
            "\n",
            "Learning Rate: [0.01]\n"
          ],
          "name": "stdout"
        },
        {
          "output_type": "error",
          "ename": "NameError",
          "evalue": "ignored",
          "traceback": [
            "\u001b[0;31m---------------------------------------------------------------------------\u001b[0m",
            "\u001b[0;31mNameError\u001b[0m                                 Traceback (most recent call last)",
            "\u001b[0;32m<ipython-input-22-756b9c089849>\u001b[0m in \u001b[0;36m<module>\u001b[0;34m()\u001b[0m\n\u001b[0;32m----> 1\u001b[0;31m \u001b[0mevaluate\u001b[0m\u001b[0;34m(\u001b[0m\u001b[0mmodel_config\u001b[0m\u001b[0;34m)\u001b[0m\u001b[0;34m\u001b[0m\u001b[0;34m\u001b[0m\u001b[0m\n\u001b[0m",
            "\u001b[0;32m<ipython-input-21-263d6a212e0a>\u001b[0m in \u001b[0;36mevaluate\u001b[0;34m(configs)\u001b[0m\n\u001b[1;32m    207\u001b[0m   \u001b[0;32mfor\u001b[0m \u001b[0mepoch\u001b[0m \u001b[0;32min\u001b[0m \u001b[0mrange\u001b[0m\u001b[0;34m(\u001b[0m\u001b[0mt1\u001b[0m\u001b[0;34m.\u001b[0m\u001b[0mepoch\u001b[0m\u001b[0;34m+\u001b[0m\u001b[0;36m1\u001b[0m\u001b[0;34m)\u001b[0m\u001b[0;34m:\u001b[0m\u001b[0;34m\u001b[0m\u001b[0;34m\u001b[0m\u001b[0m\n\u001b[1;32m    208\u001b[0m     \u001b[0mt1\u001b[0m\u001b[0;34m.\u001b[0m\u001b[0mtrain\u001b[0m\u001b[0;34m(\u001b[0m\u001b[0;34m)\u001b[0m\u001b[0;34m\u001b[0m\u001b[0;34m\u001b[0m\u001b[0m\n\u001b[0;32m--> 209\u001b[0;31m     \u001b[0mt1\u001b[0m\u001b[0;34m.\u001b[0m\u001b[0mtest\u001b[0m\u001b[0;34m(\u001b[0m\u001b[0;34m)\u001b[0m\u001b[0;34m\u001b[0m\u001b[0;34m\u001b[0m\u001b[0m\n\u001b[0m\u001b[1;32m    210\u001b[0m     \u001b[0;32mif\u001b[0m \u001b[0mt1\u001b[0m\u001b[0;34m.\u001b[0m\u001b[0mscheduler\u001b[0m \u001b[0;32mand\u001b[0m \u001b[0misinstance\u001b[0m\u001b[0;34m(\u001b[0m\u001b[0mt1\u001b[0m\u001b[0;34m.\u001b[0m\u001b[0mscheduler\u001b[0m\u001b[0;34m,\u001b[0m \u001b[0mtorch\u001b[0m\u001b[0;34m.\u001b[0m\u001b[0moptim\u001b[0m\u001b[0;34m.\u001b[0m\u001b[0mlr_scheduler\u001b[0m\u001b[0;34m.\u001b[0m\u001b[0mReduceLROnPlateau\u001b[0m\u001b[0;34m)\u001b[0m\u001b[0;34m:\u001b[0m\u001b[0;34m\u001b[0m\u001b[0;34m\u001b[0m\u001b[0m\n\u001b[1;32m    211\u001b[0m       \u001b[0mt1\u001b[0m\u001b[0;34m.\u001b[0m\u001b[0mscheduler\u001b[0m\u001b[0;34m.\u001b[0m\u001b[0mstep\u001b[0m\u001b[0;34m(\u001b[0m\u001b[0mt1\u001b[0m\u001b[0;34m.\u001b[0m\u001b[0mtest_losses\u001b[0m\u001b[0;34m[\u001b[0m\u001b[0;34m-\u001b[0m\u001b[0;36m1\u001b[0m\u001b[0;34m]\u001b[0m\u001b[0;34m)\u001b[0m\u001b[0;34m\u001b[0m\u001b[0;34m\u001b[0m\u001b[0m\n",
            "\u001b[0;32m<ipython-input-21-263d6a212e0a>\u001b[0m in \u001b[0;36mtest\u001b[0;34m(self)\u001b[0m\n\u001b[1;32m    190\u001b[0m \u001b[0;34m\u001b[0m\u001b[0m\n\u001b[1;32m    191\u001b[0m   \u001b[0;31m# print training/validation statistics\u001b[0m\u001b[0;34m\u001b[0m\u001b[0;34m\u001b[0m\u001b[0;34m\u001b[0m\u001b[0m\n\u001b[0;32m--> 192\u001b[0;31m     \u001b[0mprint\u001b[0m\u001b[0;34m(\u001b[0m\u001b[0;34m'IoU_Score={:.3f} '\u001b[0m\u001b[0;34m.\u001b[0m\u001b[0mformat\u001b[0m\u001b[0;34m(\u001b[0m \u001b[0miou_coeff\u001b[0m\u001b[0;34m)\u001b[0m\u001b[0;34m)\u001b[0m\u001b[0;34m\u001b[0m\u001b[0;34m\u001b[0m\u001b[0m\n\u001b[0m\u001b[1;32m    193\u001b[0m \u001b[0;34m\u001b[0m\u001b[0m\n\u001b[1;32m    194\u001b[0m \u001b[0;34m\u001b[0m\u001b[0m\n",
            "\u001b[0;31mNameError\u001b[0m: name 'iou_coeff' is not defined"
          ]
        }
      ]
    },
    {
      "cell_type": "code",
      "metadata": {
        "id": "25PrvGhXE5Iz",
        "colab_type": "code",
        "colab": {
          "base_uri": "https://localhost:8080/",
          "height": 233
        },
        "outputId": "007fc704-f82b-4b5c-a468-8d0a948eee9c"
      },
      "source": [
        "\n",
        "\n",
        "import matplotlib.pyplot as plt\n",
        "def image_show(tensors1):\n",
        "    grid_tensor1 = torchvision.utils.make_grid(tensors1.detach().cpu())\n",
        "    grid_image1 = grid_tensor1.permute(1,2,0)\n",
        "    plt.figure(figsize=(3,3))\n",
        "    plt.imshow(grid_image1)\n",
        "    plt.show()\n",
        "image_show( _testsamples[1]['pred_mask'][1])"
      ],
      "execution_count": null,
      "outputs": [
        {
          "output_type": "stream",
          "text": [
            "Clipping input data to the valid range for imshow with RGB data ([0..1] for floats or [0..255] for integers).\n"
          ],
          "name": "stderr"
        },
        {
          "output_type": "display_data",
          "data": {
            "image/png": "[encoded data removed]",
            "text/plain": [
              "<Figure size 216x216 with 1 Axes>"
            ]
          },
          "metadata": {
            "tags": [],
            "needs_background": "light"
          }
        }
      ]
    },
    {
      "cell_type": "code",
      "metadata": {
        "id": "UCmlBx_V2w_L",
        "colab_type": "code",
        "colab": {
          "base_uri": "https://localhost:8080/",
          "height": 283
        },
        "outputId": "531196cc-7271-406d-836f-08e54c8dc82c"
      },
      "source": [
        "import matplotlib.pyplot as plt # lr 0.0001\n",
        "plt.plot(iou_coeffs, label='IoU score')\n",
        "# plt.plot(valid_losses, label='ssim index')\n",
        "plt.legend()"
      ],
      "execution_count": null,
      "outputs": [
        {
          "output_type": "execute_result",
          "data": {
            "text/plain": [
              "<matplotlib.legend.Legend at 0x7f23ed640f28>"
            ]
          },
          "metadata": {
            "tags": []
          },
          "execution_count": 144
        },
        {
          "output_type": "display_data",
          "data": {
            "image/png": "[encoded data removed]",
            "text/plain": [
              "<Figure size 432x288 with 1 Axes>"
            ]
          },
          "metadata": {
            "tags": [],
            "needs_background": "light"
          }
        }
      ]
    },
    {
      "cell_type": "code",
      "metadata": {
        "id": "f8SbfuF9zqGX",
        "colab_type": "code",
        "colab": {
          "base_uri": "https://localhost:8080/",
          "height": 223
        },
        "outputId": "d20fa9b7-7b56-4545-bd6c-017d86f0bb3d"
      },
      "source": [
        "import torchvision\n",
        "import matplotlib.pyplot as plt\n",
        "# sample input (10 RGB images containing just Gaussian Noise)\n",
        "batch_tensor = torch.randn(*(10, 3, 256, 256))   # (N, C, H, W)\n",
        "\n",
        "# # make grid (2 rows and 5 columns) to display our 10 images\n",
        "# grid_img = torchvision.utils.make_grid(batch_tensor, nrow=5)\n",
        "plt.imshow(grid_img.permute(1, 2, 0))\n",
        "# batch_tensor.size()"
      ],
      "execution_count": 38,
      "outputs": [
        {
          "output_type": "stream",
          "text": [
            "Clipping input data to the valid range for imshow with RGB data ([0..1] for floats or [0..255] for integers).\n"
          ],
          "name": "stderr"
        },
        {
          "output_type": "execute_result",
          "data": {
            "text/plain": [
              "<matplotlib.image.AxesImage at 0x7f2381ee9a58>"
            ]
          },
          "metadata": {
            "tags": []
          },
          "execution_count": 38
        },
        {
          "output_type": "display_data",
          "data": {
            "image/png": "[encoded data removed]",
            "text/plain": [
              "<Figure size 432x288 with 1 Axes>"
            ]
          },
          "metadata": {
            "tags": [],
            "needs_background": "light"
          }
        }
      ]
    }
  ]
}